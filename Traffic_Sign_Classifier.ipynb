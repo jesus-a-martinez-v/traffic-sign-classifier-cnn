{
 "cells": [
  {
   "cell_type": "markdown",
   "metadata": {},
   "source": [
    "# Self-Driving Car Engineer Nanodegree\n",
    "\n",
    "## Deep Learning\n",
    "\n",
    "## Project: Build a Traffic Sign Recognition Classifier\n",
    "\n",
    "In this notebook, a template is provided for you to implement your functionality in stages which is required to successfully complete this project. If additional code is required that cannot be included in the notebook, be sure that the Python code is successfully imported and included in your submission, if necessary. Sections that begin with **'Implementation'** in the header indicate where you should begin your implementation for your project. Note that some sections of implementation are optional, and will be marked with **'Optional'** in the header.\n",
    "\n",
    "In addition to implementing code, there will be questions that you must answer which relate to the project and your implementation. Each section where you will answer a question is preceded by a **'Question'** header. Carefully read each question and provide thorough answers in the following text boxes that begin with **'Answer:'**. Your project submission will be evaluated based on your answers to each of the questions and the implementation you provide.\n",
    "\n",
    ">**Note:** Code and Markdown cells can be executed using the **Shift + Enter** keyboard shortcut. In addition, Markdown cells can be edited by typically double-clicking the cell to enter edit mode."
   ]
  },
  {
   "cell_type": "markdown",
   "metadata": {},
   "source": [
    "Let's import the libraries we'll need."
   ]
  },
  {
   "cell_type": "code",
   "execution_count": null,
   "metadata": {
    "collapsed": true
   },
   "outputs": [],
   "source": [
    "import tensorflow as tf\n",
    "import pickle\n",
    "import numpy as np\n",
    "import matplotlib.pyplot as plt\n",
    "# Visualizations will be shown in the notebook.\n",
    "%matplotlib inline\n",
    "import matplotlib.image as mpimg\n",
    "from itertools import groupby\n",
    "import csv\n",
    "from sklearn.model_selection import train_test_split"
   ]
  },
  {
   "cell_type": "markdown",
   "metadata": {},
   "source": [
    "---\n",
    "## Step 0: Load The Data"
   ]
  },
  {
   "cell_type": "code",
   "execution_count": null,
   "metadata": {
    "collapsed": true
   },
   "outputs": [],
   "source": [
    "# Load pickled data\n",
    "training_file = \"../traffic-signs-data/train.p\"\n",
    "testing_file = \"../traffic-signs-data/test.p\"\n",
    "\n",
    "with open(training_file, mode='rb') as f:\n",
    "    train = pickle.load(f)\n",
    "with open(testing_file, mode='rb') as f:\n",
    "    test = pickle.load(f)\n",
    "    \n",
    "X_train, y_train = train['features'], train['labels']\n",
    "X_test, y_test = test['features'], test['labels']"
   ]
  },
  {
   "cell_type": "markdown",
   "metadata": {},
   "source": [
    "---\n",
    "\n",
    "## Step 1: Dataset Summary & Exploration\n",
    "\n",
    "The pickled data is a dictionary with 4 key/value pairs:\n",
    "\n",
    "- `'features'` is a 4D array containing raw pixel data of the traffic sign images, (num examples, width, height, channels).\n",
    "- `'labels'` is a 2D array containing the label/class id of the traffic sign. The file `signnames.csv` contains id -> name mappings for each id.\n",
    "- `'sizes'` is a list containing tuples, (width, height) representing the the original width and height the image.\n",
    "- `'coords'` is a list containing tuples, (x1, y1, x2, y2) representing coordinates of a bounding box around the sign in the image. **THESE COORDINATES ASSUME THE ORIGINAL IMAGE. THE PICKLED DATA CONTAINS RESIZED VERSIONS (32 by 32) OF THESE IMAGES**\n",
    "\n",
    "Complete the basic data summary below."
   ]
  },
  {
   "cell_type": "code",
   "execution_count": null,
   "metadata": {
    "collapsed": false
   },
   "outputs": [],
   "source": [
    "# Number of training examples\n",
    "n_train = X_train.shape[0]\n",
    "# Number of testing examples.\n",
    "n_test = X_test.shape[0]\n",
    "\n",
    "# What's the shape of an traffic sign image?\n",
    "image_shape = X_train[0].shape\n",
    "\n",
    "# How many unique classes/labels there are in the dataset.\n",
    "n_classes = len(set(y_train))\n",
    "\n",
    "print(\"Number of training examples =\", n_train)\n",
    "print(\"Number of testing examples =\", n_test)\n",
    "print(\"Image data shape =\", image_shape)\n",
    "print(\"Number of classes =\", n_classes)"
   ]
  },
  {
   "cell_type": "markdown",
   "metadata": {},
   "source": [
    "Visualize the German Traffic Signs Dataset using the pickled file(s). This is open ended, suggestions include: plotting traffic sign images, plotting the count of each sign, etc.\n",
    "\n",
    "The [Matplotlib](http://matplotlib.org/) [examples](http://matplotlib.org/examples/index.html) and [gallery](http://matplotlib.org/gallery.html) pages are a great resource for doing visualizations in Python.\n",
    "\n",
    "**NOTE:** It's recommended you start with something simple first. If you wish to do more, come back to it after you've completed the rest of the sections."
   ]
  },
  {
   "cell_type": "markdown",
   "metadata": {},
   "source": [
    "Let's print the name of each image class. This will help us identify how many images we have per sign type."
   ]
  },
  {
   "cell_type": "code",
   "execution_count": null,
   "metadata": {
    "collapsed": false
   },
   "outputs": [],
   "source": [
    "def load_labels(csv_name):\n",
    "    d = {}\n",
    "    with open(csv_name) as csvfile:\n",
    "        reader = csv.DictReader(csvfile)\n",
    "        d = {int(row['ClassId']): row['SignName'] for row in reader}\n",
    "    return d\n",
    "\n",
    "def print_legend(csv_name):\n",
    "    with open(csv_name) as csvfile:\n",
    "        reader = csv.DictReader(csvfile)\n",
    "        for row in reader:\n",
    "            print(row['ClassId'], ':', row['SignName'])\n",
    "            \n",
    "print_legend('signnames.csv')"
   ]
  },
  {
   "cell_type": "code",
   "execution_count": null,
   "metadata": {
    "collapsed": true
   },
   "outputs": [],
   "source": [
    "# These are the helper functions used for visualization and data exploration            \n",
    "def plot_bar_chart(dataset, title):\n",
    "    # Group the dataset.\n",
    "    labels = load_labels('signnames.csv')\n",
    "    data = {(k, labels[k]): len(list(g)) for k, g in groupby(sorted(dataset[:]))}\n",
    "    \n",
    "    # Make plot and put the proper labels.\n",
    "    plt.figure(figsize=(6,16))\n",
    "    plt.barh(range(len(data)), data.values(), color='cyan')\n",
    "    \n",
    "    plt.ylabel(\"Image class\")\n",
    "    plt.xlabel(\"Number of images\")\n",
    "    \n",
    "    plt.title(title)\n",
    "    plt.yticks(range(len(data)), sorted(data, key=lambda) \n",
    "    # Show plot\n",
    "    plt.show()\n",
    "    \n",
    "def show_sample_images(X, y, img_class, num_samples=5):\n",
    "    assert(0 <= img_class <= 42)\n",
    "    imgs_of_class = X[y == img_class]\n",
    "    \n",
    "    sample = np.random.choice(len(imgs_of_class), num_samples)\n",
    "    for img in imgs_of_class[sample]:\n",
    "        plt.subplot(1, 2, 1)\n",
    "        plt.imshow(img)\n",
    "        plt.show()"
   ]
  },
  {
   "cell_type": "markdown",
   "metadata": {},
   "source": [
    "**Training** set exploration:"
   ]
  },
  {
   "cell_type": "code",
   "execution_count": null,
   "metadata": {
    "collapsed": false
   },
   "outputs": [],
   "source": [
    "plot_bar_chart(y_train, \"Train labels\")\n",
    "show_sample_images(X_train, y_train, img_class=0, num_samples=2)"
   ]
  },
  {
   "cell_type": "markdown",
   "metadata": {},
   "source": [
    "**Test** set exploration:"
   ]
  },
  {
   "cell_type": "code",
   "execution_count": null,
   "metadata": {
    "collapsed": false
   },
   "outputs": [],
   "source": [
    "plot_bar_chart(y_test, \"Test labels\")\n",
    "show_sample_images(X_test, y_test, img_class=0, num_samples=1)"
   ]
  },
  {
   "cell_type": "markdown",
   "metadata": {},
   "source": [
    "----\n",
    "\n",
    "## Step 2: Design and Test a Model Architecture\n",
    "\n",
    "Design and implement a deep learning model that learns to recognize traffic signs. Train and test your model on the [German Traffic Sign Dataset](http://benchmark.ini.rub.de/?section=gtsrb&subsection=dataset).\n",
    "\n",
    "There are various aspects to consider when thinking about this problem:\n",
    "\n",
    "- Neural network architecture\n",
    "- Play around preprocessing techniques (normalization, rgb to grayscale, etc)\n",
    "- Number of examples per label (some have more than others).\n",
    "- Generate fake data.\n",
    "\n",
    "Here is an example of a [published baseline model on this problem](http://yann.lecun.com/exdb/publis/pdf/sermanet-ijcnn-11.pdf). It's not required to be familiar with the approach used in the paper but, it's good practice to try to read papers like these.\n",
    "\n",
    "**NOTE:** The LeNet-5 implementation shown in the [classroom](https://classroom.udacity.com/nanodegrees/nd013/parts/fbf77062-5703-404e-b60c-95b78b2f3f9e/modules/6df7ae49-c61c-4bb2-a23e-6527e69209ec/lessons/601ae704-1035-4287-8b11-e2c2716217ad/concepts/d4aca031-508f-4e0b-b493-e7b706120f81) at the end of the CNN lesson is a solid starting point. You'll have to change the number of classes and possibly the preprocessing, but aside from that it's plug and play!"
   ]
  },
  {
   "cell_type": "markdown",
   "metadata": {},
   "source": [
    "### Implementation\n",
    "\n",
    "Use the code cell (or multiple code cells, if necessary) to implement the first step of your project. Once you have completed your implementation and are satisfied with the results, be sure to thoroughly answer the questions that follow."
   ]
  },
  {
   "cell_type": "code",
   "execution_count": null,
   "metadata": {
    "collapsed": false
   },
   "outputs": [],
   "source": [
    "### Preprocess the data here.\n",
    "### Feel free to use as many code cells as needed.\n",
    "X_train = X_train.astype(float)\n",
    "X_train -= np.mean(X_train, axis = 0) # zero-center\n",
    "X_train /= np.std(X_train, axis = 0) # normalize\n",
    "X_test = X_test.astype(float)\n",
    "X_test -= np.mean(X_test, axis = 0) # zero-center\n",
    "X_test /= np.std(X_test, axis = 0) # normalize"
   ]
  },
  {
   "cell_type": "markdown",
   "metadata": {},
   "source": [
    "### Question 1 \n",
    "\n",
    "_Describe how you preprocessed the data. Why did you choose that technique?_"
   ]
  },
  {
   "cell_type": "markdown",
   "metadata": {},
   "source": [
    "**Answer:**"
   ]
  },
  {
   "cell_type": "code",
   "execution_count": null,
   "metadata": {
    "collapsed": false
   },
   "outputs": [],
   "source": [
    "### Generate data additional data (OPTIONAL!)\n",
    "### and split the data into training/validation/testing sets here.\n",
    "### Feel free to use as many code cells as needed.\n",
    "\n",
    "def randomize(dataset, labels):\n",
    "    permutation = np.random.permutation(labels.shape[0])\n",
    "    shuffled_dataset = dataset[permutation, :, :]\n",
    "    shuffled_labels = labels[permutation]\n",
    "    return shuffled_dataset, shuffled_labels\n",
    "\n",
    "X_train, y_train = randomize(X_train, y_train)\n",
    "X_train, X_valid, y_train, y_valid = train_test_split(X_train, y_train, test_size=0.15, random_state=42)\n",
    "\n",
    "# Let's print some statistics again:\n",
    "print(\"TRAINING examples: \", X_train.shape[0])\n",
    "print(\"VALIDATION examples: \", X_valid.shape[0])\n",
    "print(\"TEST examples: \", X_test.shape[0])\n",
    "print(\"EXAMPLES shape: \", X_train.shape)\n",
    "print(\"LABELS shape: \", y_train.shape)\n",
    "\n",
    "show_sample_images(X_train, y_train, img_class=1, num_samples=1)"
   ]
  },
  {
   "cell_type": "markdown",
   "metadata": {},
   "source": [
    "### Question 2\n",
    "\n",
    "_Describe how you set up the training, validation and testing data for your model. **Optional**: If you generated additional data, how did you generate the data? Why did you generate the data? What are the differences in the new dataset (with generated data) from the original dataset?_"
   ]
  },
  {
   "cell_type": "markdown",
   "metadata": {},
   "source": [
    "**Answer:**"
   ]
  },
  {
   "cell_type": "markdown",
   "metadata": {},
   "source": []
  },
  {
   "cell_type": "markdown",
   "metadata": {},
   "source": [
    "Let's use a LeNet. Here's the function that creates the layers:"
   ]
  },
  {
   "cell_type": "code",
   "execution_count": null,
   "metadata": {
    "collapsed": true
   },
   "outputs": [],
   "source": [
    "from tensorflow.contrib.layers import flatten\n",
    "\n",
    "# Hyperparameters\n",
    "mu = 0\n",
    "sigma = 0.1\n",
    "\n",
    "def weight_variable(shape):\n",
    "    return tf.Variable(tf.truncated_normal(shape, mean=mu, stddev=sigma))\n",
    "\n",
    "def bias_variable(shape):\n",
    "    return tf.Variable(tf.zeros(shape))\n",
    "\n",
    "# LeNet architecture:\n",
    "# INPUT -> CONV -> ACT -> POOL -> CONV -> ACT -> POOL -> FLATTEN -> FC -> ACT -> FC\n",
    "def LeNet(x):\n",
    "    # Reshape from 2D to 4D. This prepares the data for\n",
    "    # convolutional and pooling layers.\n",
    "    x = tf.reshape(x, (-1, 32, 32, 3))\n",
    "    # Pad 0s to 32x32. Centers the digit further.\n",
    "    # Add 2 rows/columns on each side for height and width dimensions.\n",
    "    #x = tf.pad(x, [[0, 0], [2, 2], [2, 2], [0, 0]], mode=\"CONSTANT\")\n",
    "    \n",
    "    # TODO: Change to 32x32x12\n",
    "    # Convolution layer 1. The output shape should be 28x28x6\n",
    "    cv1_filter_width = 5\n",
    "    cv1_filter_height = 5\n",
    "    cv1_output_depth = 6\n",
    "    cv1_weight = weight_variable([cv1_filter_width, cv1_filter_height, 3, cv1_output_depth])\n",
    "    cv1_bias = bias_variable(cv1_output_depth)\n",
    "    cv1_layer = tf.nn.conv2d(x, cv1_weight, strides=[1,1,1,1], padding='VALID')\n",
    "    cv1_layer = tf.nn.bias_add(cv1_layer, cv1_bias)\n",
    "    cv1_layer = tf.nn.relu(cv1_layer)\n",
    "\n",
    "    # TODO: Change to 16x16x12\n",
    "    # Pooling layer 1. The output shape should be 14x14x6.\n",
    "    p1_filter_width = 2\n",
    "    p1_filter_height = 2\n",
    "    p1_output_depth = 6\n",
    "    p1_layer = tf.nn.max_pool(cv1_layer, ksize=[1, p1_filter_width, p1_filter_height, 1], strides=[1,1,1,1], padding='VALID')\n",
    "\n",
    "    # TODO: Change to 10x10x24\n",
    "    # Convolution layer 2. The output shape should be 10x10x16\n",
    "    cv2_filter_width = 5\n",
    "    cv2_filter_height = 5\n",
    "    cv2_output_depth = 16\n",
    "    cv2_weight = weight_variable([cv2_filter_width, cv2_filter_height, p1_output_depth, cv2_output_depth])\n",
    "    cv2_bias = bias_variable(cv2_output_depth)\n",
    "    cv2_layer = tf.nn.conv2d(p1_layer, cv2_weight, strides=[1,1,1,1], padding='VALID')\n",
    "    cv2_layer = tf.nn.bias_add(cv2_layer, cv2_bias)\n",
    "    cv2_layer = tf.nn.relu(cv2_layer)\n",
    "\n",
    "    # TODO: Change to 5x5x24\n",
    "    # Pooling layer 2. The output shape should be 5x5x16.\n",
    "    p2_filter_width = 2\n",
    "    p2_filter_height = 2\n",
    "    p2_layer = tf.nn.max_pool(cv2_layer, ksize=[1, p2_filter_width, p2_filter_height, 1], strides=[1,1,1,1], padding='VALID')\n",
    "\n",
    "    # Flatten layer\n",
    "    flatten_layer = flatten(p2_layer)\n",
    "\n",
    "    # TODO: Change to 240\n",
    "    fc1_outputs = 120\n",
    "    fc1_weigth = weight_variable([flatten_layer.get_shape().as_list()[-1], fc1_outputs])\n",
    "    fc1_biases = bias_variable([fc1_outputs])\n",
    "    fc1_layer = tf.add(tf.matmul(flatten_layer, fc1_weigth), fc1_biases)\n",
    "    fc1_layer = tf.nn.relu(fc1_layer)\n",
    "\n",
    "    fc2_outputs = n_classes\n",
    "    fc2_weight = weight_variable([fc1_outputs, fc2_outputs])\n",
    "    fc2_biases = bias_variable([fc2_outputs])\n",
    "    fc2_layer = tf.add(tf.matmul(fc1_layer, fc2_weight), fc2_biases)\n",
    "\n",
    "    # Return the result of the last fully connected layer.\n",
    "    return fc2_layer"
   ]
  },
  {
   "cell_type": "markdown",
   "metadata": {},
   "source": [
    "Our hyperparams will be:"
   ]
  },
  {
   "cell_type": "code",
   "execution_count": null,
   "metadata": {
    "collapsed": true
   },
   "outputs": [],
   "source": [
    "BETA = 1e-3\n",
    "BATCH_SIZE = 50\n",
    "EPOCHS = 10\n",
    "n_input = 32 * 32 * 3 "
   ]
  },
  {
   "cell_type": "markdown",
   "metadata": {},
   "source": [
    "Our model:"
   ]
  },
  {
   "cell_type": "code",
   "execution_count": null,
   "metadata": {
    "collapsed": false
   },
   "outputs": [],
   "source": [
    "X = tf.placeholder(tf.float32, shape=[None, n_input])\n",
    "y = tf.placeholder(tf.float32, shape=[None, n_classes])\n",
    "logits = LeNet(X)"
   ]
  },
  {
   "cell_type": "markdown",
   "metadata": {},
   "source": [
    "Optimizer:"
   ]
  },
  {
   "cell_type": "code",
   "execution_count": null,
   "metadata": {
    "collapsed": true
   },
   "outputs": [],
   "source": [
    "loss = tf.reduce_mean(tf.nn.softmax_cross_entropy_with_logits(logits, y))\n",
    "optimizer = tf.train.AdamOptimizer().minimize(loss)\n",
    "\n",
    "correct_prediction = tf.equal(tf.argmax(logits, 1), tf.argmax(y, 1))\n",
    "accuracy = tf.reduce_mean(tf.cast(correct_prediction, tf.float32))"
   ]
  },
  {
   "cell_type": "markdown",
   "metadata": {},
   "source": [
    "### Question 3\n",
    "\n",
    "_What does your final architecture look like? (Type of model, layers, sizes, connectivity, etc.)  For reference on how to build a deep neural network using TensorFlow, see [Deep Neural Network in TensorFlow\n",
    "](https://classroom.udacity.com/nanodegrees/nd013/parts/fbf77062-5703-404e-b60c-95b78b2f3f9e/modules/6df7ae49-c61c-4bb2-a23e-6527e69209ec/lessons/b516a270-8600-4f93-a0a3-20dfeabe5da6/concepts/83a3a2a2-a9bd-4b7b-95b0-eb924ab14432) from the classroom._\n"
   ]
  },
  {
   "cell_type": "markdown",
   "metadata": {},
   "source": [
    "**Answer:**"
   ]
  },
  {
   "cell_type": "markdown",
   "metadata": {},
   "source": []
  },
  {
   "cell_type": "markdown",
   "metadata": {},
   "source": [
    "First, let's onehot encode our labels:"
   ]
  },
  {
   "cell_type": "code",
   "execution_count": null,
   "metadata": {
    "collapsed": true
   },
   "outputs": [],
   "source": [
    "def reshape_input(data):\n",
    "    return data.reshape((-1, n_input))\n",
    "\n",
    "def onehot_encode(data):\n",
    "    return tf.Session().run(tf.one_hot(data, n_classes))\n",
    "X_train_flat = reshape_input(X_train)\n",
    "X_valid_flat = reshape_input(X_valid)\n",
    "X_test_flat = reshape_input(X_test)\n",
    "y_train_onehot = onehot_encode(y_train)\n",
    "y_valid_onehot = onehot_encode(y_valid)\n",
    "y_test_onehot = onehot_encode(y_test)"
   ]
  },
  {
   "cell_type": "code",
   "execution_count": null,
   "metadata": {
    "collapsed": false
   },
   "outputs": [],
   "source": [
    "### Train your model here.\n",
    "### Feel free to use as many code cells as needed.\n",
    "\n",
    "def eval_dataset(data, labels):\n",
    "    n_examples = data.shape[0]\n",
    "    total_batches = n_examples // BATCH_SIZE\n",
    "    \n",
    "    total_accuracy = 0 \n",
    "    total_loss = 0\n",
    "    \n",
    "    for i in range(total_batches):\n",
    "        offset = (i * BATCH_SIZE)\n",
    "        batch_x = data[offset:offset + BATCH_SIZE, :]\n",
    "        batch_y = labels[offset:offset + BATCH_SIZE, :]\n",
    "        l, acc = session.run([loss, accuracy], feed_dict={X: batch_x, y: batch_y})\n",
    "        \n",
    "        total_accuracy += (acc * batch_x.shape[0])\n",
    "        total_loss += (l * batch_x.shape[0])\n",
    "    \n",
    "    return total_loss / n_examples, total_accuracy / n_examples\n",
    "    \n",
    "init = tf.global_variables_initializer()\n",
    "loss_acc = []\n",
    "train_acc = []\n",
    "valid_acc = []\n",
    "with tf.Session() as session:\n",
    "    session.run(init)\n",
    "    \n",
    "    for epoch in range(EPOCHS):\n",
    "        total_batches = X_train.shape[0] // BATCH_SIZE\n",
    "        \n",
    "        for i in range(total_batches):\n",
    "            offset = (i * BATCH_SIZE)\n",
    "            batch_x = X_train_flat[offset:offset + BATCH_SIZE, :]\n",
    "            batch_y = y_train_onehot[offset:offset + BATCH_SIZE, :]\n",
    "            session.run(optimizer, feed_dict={X: batch_x, y: batch_y})\n",
    "        \n",
    "        \n",
    "        training_loss, training_accuracy = eval_dataset(X_train_flat, y_train_onehot)\n",
    "        loss_acc.append(training_loss)\n",
    "        train_acc.append(training_accuracy)\n",
    "        \n",
    "        validation_loss, validation_accuracy = eval_dataset(X_valid_flat, y_valid_onehot)\n",
    "        valid_acc.append(validation_accuracy)\n",
    "        \n",
    "        \n",
    "        if epoch % 1 == 0:\n",
    "            print(\"EPOCH:\", epoch)\n",
    "            print(\"Loss:\", training_loss)\n",
    "            print(\"Training accuracy:\", training_accuracy * 100)\n",
    "            print(\"Validation accuracy:\", validation_accuracy * 100)\n",
    "            print(\"------------------------------------------\\n\")\n",
    "            \n",
    "    \n",
    "    test_loss, test_accuracy = eval_dataset(X_test_flat, y_test_onehot) \n",
    "    print(\"Test accuracy:\", test_accuracy * 100)\n",
    "\n",
    "epochs_range = range(EPOCHS)\n",
    "plt.plot(epochs_range, loss_acc)\n",
    "plt.xlabel(\"Epochs\")\n",
    "plt.ylabel(\"Loss\")\n",
    "plt.show()\n",
    "\n",
    "plt.plot(epochs_range, train_acc)\n",
    "plt.plot(epochs_range, valid_acc)\n",
    "plt.xlabel(\"Epochs\")\n",
    "plt.ylabel(\"Training accuracy - Validation accuracy\")\n",
    "plt.show()"
   ]
  },
  {
   "cell_type": "markdown",
   "metadata": {},
   "source": [
    "### Question 4\n",
    "\n",
    "_How did you train your model? (Type of optimizer, batch size, epochs, hyperparameters, etc.)_\n"
   ]
  },
  {
   "cell_type": "markdown",
   "metadata": {},
   "source": [
    "**Answer:**"
   ]
  },
  {
   "cell_type": "markdown",
   "metadata": {},
   "source": [
    "### Question 5\n",
    "\n",
    "\n",
    "_What approach did you take in coming up with a solution to this problem? It may have been a process of trial and error, in which case, outline the steps you took to get to the final solution and why you chose those steps. Perhaps your solution involved an already well known implementation or architecture. In this case, discuss why you think this is suitable for the current problem._"
   ]
  },
  {
   "cell_type": "markdown",
   "metadata": {},
   "source": [
    "**Answer:**"
   ]
  },
  {
   "cell_type": "markdown",
   "metadata": {},
   "source": [
    "---\n",
    "\n",
    "## Step 3: Test a Model on New Images\n",
    "\n",
    "Take several pictures of traffic signs that you find on the web or around you (at least five), and run them through your classifier on your computer to produce example results. The classifier might not recognize some local signs but it could prove interesting nonetheless.\n",
    "\n",
    "You may find `signnames.csv` useful as it contains mappings from the class id (integer) to the actual sign name."
   ]
  },
  {
   "cell_type": "markdown",
   "metadata": {},
   "source": [
    "### Implementation\n",
    "\n",
    "Use the code cell (or multiple code cells, if necessary) to implement the first step of your project. Once you have completed your implementation and are satisfied with the results, be sure to thoroughly answer the questions that follow."
   ]
  },
  {
   "cell_type": "code",
   "execution_count": null,
   "metadata": {
    "collapsed": true
   },
   "outputs": [],
   "source": [
    "### Load the images and plot them here.\n",
    "### Feel free to use as many code cells as needed."
   ]
  },
  {
   "cell_type": "markdown",
   "metadata": {},
   "source": [
    "### Question 6\n",
    "\n",
    "_Choose five candidate images of traffic signs and provide them in the report. Are there any particular qualities of the image(s) that might make classification difficult? It could be helpful to plot the images in the notebook._\n",
    "\n"
   ]
  },
  {
   "cell_type": "markdown",
   "metadata": {},
   "source": [
    "**Answer:**"
   ]
  },
  {
   "cell_type": "code",
   "execution_count": null,
   "metadata": {
    "collapsed": true
   },
   "outputs": [],
   "source": [
    "### Run the predictions here.\n",
    "### Feel free to use as many code cells as needed."
   ]
  },
  {
   "cell_type": "markdown",
   "metadata": {},
   "source": [
    "### Question 7\n",
    "\n",
    "_Is your model able to perform equally well on captured pictures when compared to testing on the dataset? The simplest way to do this check the accuracy of the predictions. For example, if the model predicted 1 out of 5 signs correctly, it's 20% accurate._\n",
    "\n",
    "_**NOTE:** You could check the accuracy manually by using `signnames.csv` (same directory). This file has a mapping from the class id (0-42) to the corresponding sign name. So, you could take the class id the model outputs, lookup the name in `signnames.csv` and see if it matches the sign from the image._\n"
   ]
  },
  {
   "cell_type": "markdown",
   "metadata": {},
   "source": [
    "**Answer:**"
   ]
  },
  {
   "cell_type": "code",
   "execution_count": null,
   "metadata": {
    "collapsed": true
   },
   "outputs": [],
   "source": [
    "### Visualize the softmax probabilities here.\n",
    "### Feel free to use as many code cells as needed."
   ]
  },
  {
   "cell_type": "markdown",
   "metadata": {},
   "source": [
    "### Question 8\n",
    "\n",
    "*Use the model's softmax probabilities to visualize the **certainty** of its predictions, [`tf.nn.top_k`](https://www.tensorflow.org/versions/r0.12/api_docs/python/nn.html#top_k) could prove helpful here. Which predictions is the model certain of? Uncertain? If the model was incorrect in its initial prediction, does the correct prediction appear in the top k? (k should be 5 at most)*\n",
    "\n",
    "`tf.nn.top_k` will return the values and indices (class ids) of the top k predictions. So if k=3, for each sign, it'll return the 3 largest probabilities (out of a possible 43) and the correspoding class ids.\n",
    "\n",
    "Take this numpy array as an example:\n",
    "\n",
    "```\n",
    "# (5, 6) array\n",
    "a = np.array([[ 0.24879643,  0.07032244,  0.12641572,  0.34763842,  0.07893497,\n",
    "         0.12789202],\n",
    "       [ 0.28086119,  0.27569815,  0.08594638,  0.0178669 ,  0.18063401,\n",
    "         0.15899337],\n",
    "       [ 0.26076848,  0.23664738,  0.08020603,  0.07001922,  0.1134371 ,\n",
    "         0.23892179],\n",
    "       [ 0.11943333,  0.29198961,  0.02605103,  0.26234032,  0.1351348 ,\n",
    "         0.16505091],\n",
    "       [ 0.09561176,  0.34396535,  0.0643941 ,  0.16240774,  0.24206137,\n",
    "         0.09155967]])\n",
    "```\n",
    "\n",
    "Running it through `sess.run(tf.nn.top_k(tf.constant(a), k=3))` produces:\n",
    "\n",
    "```\n",
    "TopKV2(values=array([[ 0.34763842,  0.24879643,  0.12789202],\n",
    "       [ 0.28086119,  0.27569815,  0.18063401],\n",
    "       [ 0.26076848,  0.23892179,  0.23664738],\n",
    "       [ 0.29198961,  0.26234032,  0.16505091],\n",
    "       [ 0.34396535,  0.24206137,  0.16240774]]), indices=array([[3, 0, 5],\n",
    "       [0, 1, 4],\n",
    "       [0, 5, 1],\n",
    "       [1, 3, 5],\n",
    "       [1, 4, 3]], dtype=int32))\n",
    "```\n",
    "\n",
    "Looking just at the first row we get `[ 0.34763842,  0.24879643,  0.12789202]`, you can confirm these are the 3 largest probabilities in `a`. You'll also notice `[3, 0, 5]` are the corresponding indices."
   ]
  },
  {
   "cell_type": "markdown",
   "metadata": {},
   "source": [
    "**Answer:**"
   ]
  },
  {
   "cell_type": "markdown",
   "metadata": {},
   "source": [
    "> **Note**: Once you have completed all of the code implementations and successfully answered each question above, you may finalize your work by exporting the iPython Notebook as an HTML document. You can do this by using the menu above and navigating to  \\n\",\n",
    "    \"**File -> Download as -> HTML (.html)**. Include the finished document along with this notebook as your submission."
   ]
  },
  {
   "cell_type": "code",
   "execution_count": null,
   "metadata": {
    "collapsed": true
   },
   "outputs": [],
   "source": []
  }
 ],
 "metadata": {
  "anaconda-cloud": {},
  "kernelspec": {
   "display_name": "Python 3",
   "language": "python",
   "name": "python3"
  },
  "language_info": {
   "codemirror_mode": {
    "name": "ipython",
    "version": 3
   },
   "file_extension": ".py",
   "mimetype": "text/x-python",
   "name": "python",
   "nbconvert_exporter": "python",
   "pygments_lexer": "ipython3",
   "version": "3.5.2"
  }
 },
 "nbformat": 4,
 "nbformat_minor": 1
}
